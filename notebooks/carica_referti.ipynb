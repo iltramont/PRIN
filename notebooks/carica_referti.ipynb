{
 "cells": [
  {
   "cell_type": "code",
   "execution_count": 50,
   "metadata": {},
   "outputs": [
    {
     "name": "stderr",
     "output_type": "stream",
     "text": [
      "c:\\Users\\lucat\\PythonRepositories\\PRIN\\.venv\\Lib\\site-packages\\tqdm\\auto.py:21: TqdmWarning: IProgress not found. Please update jupyter and ipywidgets. See https://ipywidgets.readthedocs.io/en/stable/user_install.html\n",
      "  from .autonotebook import tqdm as notebook_tqdm\n"
     ]
    }
   ],
   "source": [
    "import numpy as np\n",
    "import pandas as pd\n",
    "from pprint import pprint\n",
    "from datasets import load_dataset"
   ]
  },
  {
   "cell_type": "code",
   "execution_count": 29,
   "metadata": {},
   "outputs": [],
   "source": [
    "data_path = 'C:\\\\Users\\\\lucat\\\\OneDrive\\\\TESI_MAGISTRALE\\\\Referti\\Referti non strutturati retto\\\\Referti con annotazioni.xlsx'\n",
    "data = pd.read_excel(data_path, index_col=0)\n",
    "data = data.T\n",
    "#narratives = data.iloc[:, 2]"
   ]
  },
  {
   "cell_type": "code",
   "execution_count": 34,
   "metadata": {},
   "outputs": [
    {
     "name": "stdout",
     "output_type": "stream",
     "text": [
      "Index(['Intestazione', 'Esame', 'TESTO:', 'TECNICA:',\n",
      "       'QUALITA' DELLE IMMAGINI: ', 'INDICAZIONI: ', 'CONFRONTO: ', 'RETTO:',\n",
      "       'Posizione: ', 'Estensione cranio-caudale: ',\n",
      "       'Estensione circonferenziale: ', 'Infiltrazione sfintere: ',\n",
      "       'Coinvolgimento fascia mesorettale:',\n",
      "       'Localizzazione della distanza minima tra tumore e MRF (mesorectal fascia): ',\n",
      "       'Linfonodi mesorettali: ', 'Depositi tumorali: ', 'Altri reperti: ',\n",
      "       'CONCLUSIONI: ',\n",
      "       'Note cliniche GEMELLI: mi piacerebbe conoscere lo stato EMVI (extramural vascular invasion), se ci sono linfonodi extra mesorettali positivi (inguinali, otturatori, iliaci interni ed esterni, iliaci comuni)'],\n",
      "      dtype='object', name='Caso')\n"
     ]
    }
   ],
   "source": [
    "# Columns\n",
    "pprint(data.columns)"
   ]
  },
  {
   "cell_type": "code",
   "execution_count": 48,
   "metadata": {},
   "outputs": [
    {
     "name": "stdout",
     "output_type": "stream",
     "text": [
      "0    Esame eseguito secondo piani multipli, mediant...\n",
      "1    L'esame è stato eseguito mediante sequenze HAS...\n",
      "2    Motivo dell'esame: neoformazione del retto. L'...\n",
      "3    Indagine eseguita mediante sequenze T2 e T1-di...\n",
      "4    L'esame è stato eseguito mediante sequenze FSE...\n",
      "5    Tecnica: sequenze FSE, DWI, FSPGR 3D-DISCO pri...\n",
      "6    L'esame è srtato eseguito medinte sequenze FSE...\n",
      "7    Esame eseguito mediante sequenze FSE,GRE e DWI...\n",
      "8    L'esame è stato eseguito mediante sequenze FSE...\n",
      "9    L'esame è stato eseguito mediante sequenze FSE...\n",
      "Name: TESTO:, dtype: object\n"
     ]
    }
   ],
   "source": [
    "# Select Narratives (referti)\n",
    "narratives = data['TESTO:']\n",
    "narratives.reset_index(drop=True, inplace=True)\n",
    "print(narratives)"
   ]
  },
  {
   "cell_type": "code",
   "execution_count": 49,
   "metadata": {},
   "outputs": [
    {
     "name": "stdout",
     "output_type": "stream",
     "text": [
      "Narrative number 1:\n",
      "Esame eseguito secondo piani multipli, mediante sequenze T1- e T2-dipendenti e di Diffusione, completato mediante sono state mezzo di contrasto (Prohance, 16 mL). A circa 2,5 cm dalla giunzione ano-rettale si documenta formazione espansiva solida semianulare che si estende da ore 2 ad ore 7 per una estensione cranio-caudale di 5 cm. Essa presenta fini spiculature che si estendono nel tessuto adiposo pararettale per un'estensione inferiore ai 5 mm. Sono presenti tre linfonodi con aspetto tondeggiante, segnale irregolare e margini mal definiti; uno di questi, in sede craniale, giunge a contatto con la fascia mesorettale (vedi immagii principali). Si documenta sospetta esntesione della vascolarizzazione al versante alterale di sinistra (vedi immagii principali).\n",
      "Narrative number 2:\n",
      "L'esame è stato eseguito mediante sequenze HASTE, DWI, VIBE dopo mdc (Prohance 15ml), in assenza di precedenti RM con cui effettuare un confronto. In corrispondenza della parete anteriore del retto medio-alto, da circa 7 cm dallo sfintere anale interno con estensione craniale per circa 2 cm, si documenta ispessimento parietale confinato alla parete (spessore massimo 13 mm), che occupa due quarti della circonferenza del lume, moderatamente iperintenso nelle sequenze T2-dipendenti ed iperintenso nelle sequenze DWI, che mostra intensa impregnazione constrastografica nelle sequenze di perfusione. Due linfonodi con asse corto < 5 mm in sede mesorettale posteriore aspecifici. Non evidenti linfoadenopatie in sede pelvica. Piccola cisti di Tarlov a livello di S2.\n",
      "Narrative number 3:\n",
      "Motivo dell'esame: neoformazione del retto. L'esame RM stato eseguito mediante sequenze SE e FSE con immagini secondo piani multipli, in condizioni di base e durante somministrazione e.v. di chelati del Gd (ProHance 13 ml). Si documenta un ispessimento focale della parete laterale destra del retto medio, che appare iperintensa nelle immagini T2-dipendenti, con impregnazione di contrasto e restrizione del coefficiente di diffusione, con un'estensione cranio-caudale di 52 mm, con prevalente crescita vegetante all'interno del lume del viscere. Finemente irregolare irsulta l'interfaccia tra la parete del retto medio, sede del suddetto ispessimento, ed il tessuto adiposo perirettale, ma non si documentano tuttavia macroscopici segni di infiltrazione del tessuto adiposo perirettale. Conservato risulta il piano di clivaggio con la fascia mesorettale. Sono presenti multipli, piccoli linfonodi del diametro assiale minimo inferiore a 5 mm nel tessuto adiposo perirettale. Un linfonodo, del diametro assiale minimo inferiore a 5 mm, si osserva anche lungo i vasi emorroidari superiori. Non si documentano linfoadenomegalie in sede otturatorioa o lungo i vasi iliaci, bilateralmente. L'utero appare antiverso - flesso, di dimensioni ridotte, come per involuzione post-menopausale. Nella norma lo spessore dell'nedometrio. Non aree focali di alterata intensità di segnale della cervice dell'utero. Nella norma lo spessore e l'intensità di segnale delle pareti della vagina e dei fornici vaginali. Non lesioni espansive in sede annessiale, bilateralmente, ove si osservano multipli follicoli funzionali. Non linfoadenomegalie pelviche od inguinali, né versamento nel cavo di Douglas. Vescica appare poco distesa, esente da alterazioni parietali o endoluminali.\n",
      "Narrative number 4:\n",
      "Indagine eseguita mediante sequenze T2 e T1-dipendenti su piani multipli, prima e dopo somministrazione di MdC paramagnetico (Prohance 13 ml), anche con soprressione del segnale adiposo, DWI(ADC), previa distensione del retto con gel e ipotonizzante im. Si conferma la presenza in corrispondenza del retto medio-alto, di un ispessimento eccentrico della parete viscerale che mostra segnale disomogeneamente iperintenso nelle sequenze T2-dipendenti, restrizione della diffusione protonica ed enchancement postcontrastografico, di natura eteroplasica. Tale ispessimento dista circa 55 mm dall'orifizio anale interno, estendendosi in senso CC per 65 mm, con diametro AP 30 di mm e LL di 30 mm. La parete del retto è interessata a tutto spessore con segni di sconfinamento nel tessuto adiposo perirettale, in particolare lungo la parete postero-laterale sinistra, tuttavia in assenza di coinvolgimento patologico della fascia mesorettale. Nel periretto-sigma sono presenti almeno quattro linfonodi con morfologia rotondeggiante e margini sfumati, sospetti, il maggiore di 6 mm in sede presacrale. Linfonodo con con asse corto di 7 mm in sede iliaca esterna destra. Vescica normodistesa, esente da ispessimenti focali di parete. Prostata di dimensioni aumentate (dT 47 mm), con III lobo aggettante in vescica, meritevole di videat urologico ove non eseguito di recente. Non falde fluide in scavo pelvico. Conclusioni: Neoplasia rettale T3 MRT- N2a M0 (M1 se linfonodo inguinale esterno destro confermato).\n",
      "Narrative number 5:\n",
      "L'esame è stato eseguito mediante sequenze FSE,DWI,Disco dopo mdc, Prohance. In corrispondenza del retto medio- basso da circa 2,5 cm dallo sfintere anale interno con estensione craniale per circa 5 cm, con epicentro in corrispondenza della parete posterolaterale sinistra, è presente ispessimento arietale che occupa 3/4 della circonferenza del lume con digitazioni nel mesoretto . La neoplasia è contigua al muscolo elevatore dell'ano di sn ma senza sicuri segni di infiltrazione. Nel mesoretto e lungo i vasi emorroidari superiori sono presenti linfonodi sospetti in numero superiore a tre, il maggiore nel mesoretto di destra con asse corto di circa 7 mm. Linfonodi di circa 1 cm in sede inguinale destra. DT della prostata di circa 5 cm Diffuso ispessimento delle pareti vescicali. CONCLUSIONI: STADIAZIONE RM T3 N2\n",
      "Narrative number 6:\n",
      "Tecnica: sequenze FSE, DWI, FSPGR 3D-DISCO prima e dopo somministrazione ev di mdc paramagnetico (Prohance 0.2 ml/Kg), previa distensione del retto con gel. Referto a confronto con precedente esame TC del 10.06.22, eseguito presso altra sede e portato in visione. Risultati: si documenta ispessimento parietale ad epicentro a livello del retto medio-superiore, con estensione longitudinale di circa 6 cm. La lesione interessa il viscere per almeno 3/4 della sua circonferenza, con effetto stenosante sul lume, prevalentemente da ore 5 ad ore 12; la lesione mostra segnale debolmente iperintenso nelle sequenze T2 dipendenti cons egni di restrizione della diffusività protonica ed impregnazione di contrasto dopo mdc. La parete nel terzo inferiore appare infiltrata a tutto spessore, con sottili spiculature nel tessuto adiposo mesorettale più evidenti da ore 6 ad ore 9. Si associano numerosi linfonodi (in numero superiore a 3) con asse corto massimo sino a 5 mm nel mesoretto e plurimi linfonodi con asse corto di 5 mm lungo i vasi emorroidari superiori. Linfonodo con asse corto di crca 4mm in sede ipogastrica a dx. Linfonodi con asse corto subcentimetrico aspecifici in sede otturatoria ed iliaca estena bilateralmente. Vescica urinaria scarsamente repleta, esente da grossolane alterazioni. Non versamento libero in pelvi. Prostata di dimensioni aumentate (DT 48 mm) con ipertrofia adenomatosa della porzione centrale. Diverticolosi del sigma\n",
      "Narrative number 7:\n",
      "L'esame è srtato eseguito medinte sequenze FSE, DWI, DISCO dopo mdc, Prohance. In corrispondenza del retto medio da crica 5,6 cm dallo sfintere anale interno con estensione craniale del circa 4 cm, si conferma la presenza di una formazione aggettante a prevalente sviluppo endoluminale, apparentemnte peduncolata, che occupa due quarti della circonferenza del lume senza sicuri segni di sconfinamento extraparietale. Nel mesoretto posteriore sono presenti due linfonodi sospetti. Si conferma ernia ombelicale con porta erniaria di 5 cm ed impegno di tessuto adiposo. Utero antiversoflesso in atrofia post-menopausale. Ispessimento dell'endometrio da valutare clinicamente. CONCLUSIONI: Formazione aggettante del retto medio senza sicuri segni di sconfinamento extraparietale. Due linfonodi sospetti nel mesoretto posteriore.\n",
      "Narrative number 8:\n",
      "Esame eseguito mediante sequenze FSE,GRE e DWI, prima e dopo somministrazione ev di mdc paramagnetico (Prohance 0.2 ml/kg) anche con sequenze di perfusione, previa somministrazione di Buscopan ed applicazione di gel endo-rettale. Esame valutato in considerazione del precedente esame TC del 09.09.2022. Si documenta tessuto solido modicamenteiperintenso nelle sequenze T2 pesate con restrizione della diffusività protonica e dotato di impregnazione contrastografica, ad epicentro nel retto medio-basso e cranialmente esteso al passaggio medio-alto (limite inferiore a crica 3 cm dalla giunzione ano-rettale ed estensione longitudinale craniale per circa 7,5 cm), che interessa la parete del viscere per più dell'emicirconfereza (estensione assiale massima dalle ore 5 alle ore 13 in senso orario). La lesione infiltra la parete rettale a tutto spessore, con bulging, margini sfumati e spicule che si estendono nel tessuto adiposo adiacente (maggiori in sede anterolaterale dx con estensione di almeno 5 mm) e con un sottile clivaggio dalla fascia mesorettale (< 2 mm in sede anteriore); non si osservano segni di interessamento della fascia peritoneale. Si documentano linfonodi con asse corto uguale o maggiore a 5 mm, di aspetto rotondeggiante e margini sfumati nel mesoretto (circa 5), al passaggio mesoretto-tessuto adiposo peritoneale e lungo i vasi emorroidari (circa 4). Nelle stesse stazioni ed insede iliaca interna dx sono presenti linfonodi con asse corto < 5 mm e simili caratteristiche morfologiche. Linfonodi con asse corto < 5 mm e morfologia maggiormente ovalare sono visibili nelle altre stazioni pelviche. Conservati i piani di clivaggio con le strutture vascolari adiacenti. Vescica normodistesa. Diffusa disomogenea densità ossea. Annotazioni Eteroformazione rettale ad epicentro medio-basso estesa cranialmente fino al passaggio medio-alto, con stadiazione radiologica T3c N2 e criteri radiologici di possibile interessamento della fascia mesorettale.\n",
      "Narrative number 9:\n",
      "L'esame è stato eseguito mediante sequenze FSE, DWI, 3D lava dopo mdc, Prohance. Il retto appare disteso da una grossolana formazione di aspetto villoso a sviluppo endoluminale che si estende da subito al di sopra dello sfintere anale interno cranialmente per circa 8 cm, occupa 3/4 della circonferenza del lume con epicentro in corrispondenza della parete laterale sinistra dove retrae la parete. Anteriormente si segnala ampia soluzione di continuo tra lume rettale e vagina con distensione ed invasione del canale vaginale ( in vagina è riconoscibilie una componente della neoplasia villosa ). Piu' caudalmente la neoplasia interrompe il setto rettovaginale. Sul versante postero-laterale sinistro la parete rettale appare sfiancata e la neoplasia raggiunge con una componente mucinosa la parete laterale sinistra della pelvi ed infiltra il muscolo otturatore interno , caudalmente a sinistra la neoplasia raggiunge il pavimento pelvico , infiltra e oltrepassa il muscolo elevatore dell'ano di sinistra e raggiunge la fosse ischio-rettale di sinistra . Lungo i vasi emorroidari superiori sono presenti due linfonodi sospetti. Utero in atrofia senile fibromiomatoso, in corrispondenza della parete anteriore del fondo uterino è presente un nodo miomatoso di circa 1 cm. Piccole ernie inguinali bilaterali con impegno di tessuto adiposo. Puccoli linfonodi , aspecifici, in sede inguinale bilaterale. CONCLUSIONI: L'esame RM depone per neoplasia di tipo villoso del retto medio-basso che invade anteriormente con una componente endoluminale, attraverso un ampio tramite, il canale vaginale e lateralemnte raggiunge la fossa ischio-rettale di sn.\n",
      "Narrative number 10:\n",
      "L'esame è stato eseguito mediante sequenze FSE,DWI. In corrispondenza del retto medio-alto , da circa 6 cm dallo sfintere anale interno con epicentro in corrispondenza della parete postero-laterale destra , si segnala formazione aggettante che occupa 3/4 della circonferenza del lume e si estende cranio-caudalmente per circa 4,6 cm ed invia digitazioni nel mesoretto. Tre linfonodi sospetti nel mesoretto posteriore e lungo i vasi emorroidari superiori. CONCLUSIONI STADIAZIONE RM T3 N1\n"
     ]
    }
   ],
   "source": [
    "k = 1\n",
    "for n in narratives:\n",
    "    print(f'Narrative number {k}:')\n",
    "    print(n)\n",
    "    k += 1"
   ]
  },
  {
   "cell_type": "code",
   "execution_count": 52,
   "metadata": {},
   "outputs": [
    {
     "ename": "TypeError",
     "evalue": "expected str, bytes or os.PathLike object, not list",
     "output_type": "error",
     "traceback": [
      "\u001b[1;31m---------------------------------------------------------------------------\u001b[0m",
      "\u001b[1;31mTypeError\u001b[0m                                 Traceback (most recent call last)",
      "Cell \u001b[1;32mIn[52], line 1\u001b[0m\n\u001b[1;32m----> 1\u001b[0m dataset \u001b[38;5;241m=\u001b[39m \u001b[43mload_dataset\u001b[49m\u001b[43m(\u001b[49m\u001b[38;5;28;43mlist\u001b[39;49m\u001b[43m(\u001b[49m\u001b[43mnarratives\u001b[49m\u001b[43m)\u001b[49m\u001b[43m)\u001b[49m\n",
      "File \u001b[1;32mc:\\Users\\lucat\\PythonRepositories\\PRIN\\.venv\\Lib\\site-packages\\datasets\\load.py:2111\u001b[0m, in \u001b[0;36mload_dataset\u001b[1;34m(path, name, data_dir, data_files, split, cache_dir, features, download_config, download_mode, verification_mode, keep_in_memory, save_infos, revision, token, streaming, num_proc, storage_options, trust_remote_code, **config_kwargs)\u001b[0m\n\u001b[0;32m   2109\u001b[0m \u001b[38;5;28;01mif\u001b[39;00m data_files \u001b[38;5;129;01mis\u001b[39;00m \u001b[38;5;129;01mnot\u001b[39;00m \u001b[38;5;28;01mNone\u001b[39;00m \u001b[38;5;129;01mand\u001b[39;00m \u001b[38;5;129;01mnot\u001b[39;00m data_files:\n\u001b[0;32m   2110\u001b[0m     \u001b[38;5;28;01mraise\u001b[39;00m \u001b[38;5;167;01mValueError\u001b[39;00m(\u001b[38;5;124mf\u001b[39m\u001b[38;5;124m\"\u001b[39m\u001b[38;5;124mEmpty \u001b[39m\u001b[38;5;124m'\u001b[39m\u001b[38;5;124mdata_files\u001b[39m\u001b[38;5;124m'\u001b[39m\u001b[38;5;124m: \u001b[39m\u001b[38;5;124m'\u001b[39m\u001b[38;5;132;01m{\u001b[39;00mdata_files\u001b[38;5;132;01m}\u001b[39;00m\u001b[38;5;124m'\u001b[39m\u001b[38;5;124m. It should be either non-empty or None (default).\u001b[39m\u001b[38;5;124m\"\u001b[39m)\n\u001b[1;32m-> 2111\u001b[0m \u001b[38;5;28;01mif\u001b[39;00m \u001b[43mPath\u001b[49m\u001b[43m(\u001b[49m\u001b[43mpath\u001b[49m\u001b[43m,\u001b[49m\u001b[43m \u001b[49m\u001b[43mconfig\u001b[49m\u001b[38;5;241;43m.\u001b[39;49m\u001b[43mDATASET_STATE_JSON_FILENAME\u001b[49m\u001b[43m)\u001b[49m\u001b[38;5;241m.\u001b[39mexists():\n\u001b[0;32m   2112\u001b[0m     \u001b[38;5;28;01mraise\u001b[39;00m \u001b[38;5;167;01mValueError\u001b[39;00m(\n\u001b[0;32m   2113\u001b[0m         \u001b[38;5;124m\"\u001b[39m\u001b[38;5;124mYou are trying to load a dataset that was saved using `save_to_disk`. \u001b[39m\u001b[38;5;124m\"\u001b[39m\n\u001b[0;32m   2114\u001b[0m         \u001b[38;5;124m\"\u001b[39m\u001b[38;5;124mPlease use `load_from_disk` instead.\u001b[39m\u001b[38;5;124m\"\u001b[39m\n\u001b[0;32m   2115\u001b[0m     )\n\u001b[0;32m   2117\u001b[0m \u001b[38;5;28;01mif\u001b[39;00m streaming \u001b[38;5;129;01mand\u001b[39;00m num_proc \u001b[38;5;129;01mis\u001b[39;00m \u001b[38;5;129;01mnot\u001b[39;00m \u001b[38;5;28;01mNone\u001b[39;00m:\n",
      "File \u001b[1;32m~\\AppData\\Local\\Programs\\Python\\Python311\\Lib\\pathlib.py:871\u001b[0m, in \u001b[0;36mPath.__new__\u001b[1;34m(cls, *args, **kwargs)\u001b[0m\n\u001b[0;32m    869\u001b[0m \u001b[38;5;28;01mif\u001b[39;00m \u001b[38;5;28mcls\u001b[39m \u001b[38;5;129;01mis\u001b[39;00m Path:\n\u001b[0;32m    870\u001b[0m     \u001b[38;5;28mcls\u001b[39m \u001b[38;5;241m=\u001b[39m WindowsPath \u001b[38;5;28;01mif\u001b[39;00m os\u001b[38;5;241m.\u001b[39mname \u001b[38;5;241m==\u001b[39m \u001b[38;5;124m'\u001b[39m\u001b[38;5;124mnt\u001b[39m\u001b[38;5;124m'\u001b[39m \u001b[38;5;28;01melse\u001b[39;00m PosixPath\n\u001b[1;32m--> 871\u001b[0m \u001b[38;5;28mself\u001b[39m \u001b[38;5;241m=\u001b[39m \u001b[38;5;28;43mcls\u001b[39;49m\u001b[38;5;241;43m.\u001b[39;49m\u001b[43m_from_parts\u001b[49m\u001b[43m(\u001b[49m\u001b[43margs\u001b[49m\u001b[43m)\u001b[49m\n\u001b[0;32m    872\u001b[0m \u001b[38;5;28;01mif\u001b[39;00m \u001b[38;5;129;01mnot\u001b[39;00m \u001b[38;5;28mself\u001b[39m\u001b[38;5;241m.\u001b[39m_flavour\u001b[38;5;241m.\u001b[39mis_supported:\n\u001b[0;32m    873\u001b[0m     \u001b[38;5;28;01mraise\u001b[39;00m \u001b[38;5;167;01mNotImplementedError\u001b[39;00m(\u001b[38;5;124m\"\u001b[39m\u001b[38;5;124mcannot instantiate \u001b[39m\u001b[38;5;132;01m%r\u001b[39;00m\u001b[38;5;124m on your system\u001b[39m\u001b[38;5;124m\"\u001b[39m\n\u001b[0;32m    874\u001b[0m                               \u001b[38;5;241m%\u001b[39m (\u001b[38;5;28mcls\u001b[39m\u001b[38;5;241m.\u001b[39m\u001b[38;5;18m__name__\u001b[39m,))\n",
      "File \u001b[1;32m~\\AppData\\Local\\Programs\\Python\\Python311\\Lib\\pathlib.py:509\u001b[0m, in \u001b[0;36mPurePath._from_parts\u001b[1;34m(cls, args)\u001b[0m\n\u001b[0;32m    504\u001b[0m \u001b[38;5;129m@classmethod\u001b[39m\n\u001b[0;32m    505\u001b[0m \u001b[38;5;28;01mdef\u001b[39;00m\u001b[38;5;250m \u001b[39m\u001b[38;5;21m_from_parts\u001b[39m(\u001b[38;5;28mcls\u001b[39m, args):\n\u001b[0;32m    506\u001b[0m     \u001b[38;5;66;03m# We need to call _parse_args on the instance, so as to get the\u001b[39;00m\n\u001b[0;32m    507\u001b[0m     \u001b[38;5;66;03m# right flavour.\u001b[39;00m\n\u001b[0;32m    508\u001b[0m     \u001b[38;5;28mself\u001b[39m \u001b[38;5;241m=\u001b[39m \u001b[38;5;28mobject\u001b[39m\u001b[38;5;241m.\u001b[39m\u001b[38;5;21m__new__\u001b[39m(\u001b[38;5;28mcls\u001b[39m)\n\u001b[1;32m--> 509\u001b[0m     drv, root, parts \u001b[38;5;241m=\u001b[39m \u001b[38;5;28;43mself\u001b[39;49m\u001b[38;5;241;43m.\u001b[39;49m\u001b[43m_parse_args\u001b[49m\u001b[43m(\u001b[49m\u001b[43margs\u001b[49m\u001b[43m)\u001b[49m\n\u001b[0;32m    510\u001b[0m     \u001b[38;5;28mself\u001b[39m\u001b[38;5;241m.\u001b[39m_drv \u001b[38;5;241m=\u001b[39m drv\n\u001b[0;32m    511\u001b[0m     \u001b[38;5;28mself\u001b[39m\u001b[38;5;241m.\u001b[39m_root \u001b[38;5;241m=\u001b[39m root\n",
      "File \u001b[1;32m~\\AppData\\Local\\Programs\\Python\\Python311\\Lib\\pathlib.py:493\u001b[0m, in \u001b[0;36mPurePath._parse_args\u001b[1;34m(cls, args)\u001b[0m\n\u001b[0;32m    491\u001b[0m     parts \u001b[38;5;241m+\u001b[39m\u001b[38;5;241m=\u001b[39m a\u001b[38;5;241m.\u001b[39m_parts\n\u001b[0;32m    492\u001b[0m \u001b[38;5;28;01melse\u001b[39;00m:\n\u001b[1;32m--> 493\u001b[0m     a \u001b[38;5;241m=\u001b[39m os\u001b[38;5;241m.\u001b[39mfspath(a)\n\u001b[0;32m    494\u001b[0m     \u001b[38;5;28;01mif\u001b[39;00m \u001b[38;5;28misinstance\u001b[39m(a, \u001b[38;5;28mstr\u001b[39m):\n\u001b[0;32m    495\u001b[0m         \u001b[38;5;66;03m# Force-cast str subclasses to str (issue #21127)\u001b[39;00m\n\u001b[0;32m    496\u001b[0m         parts\u001b[38;5;241m.\u001b[39mappend(\u001b[38;5;28mstr\u001b[39m(a))\n",
      "\u001b[1;31mTypeError\u001b[0m: expected str, bytes or os.PathLike object, not list"
     ]
    }
   ],
   "source": [
    "dataset = load_dataset(list(narratives))"
   ]
  },
  {
   "cell_type": "code",
   "execution_count": null,
   "metadata": {},
   "outputs": [],
   "source": [
    "from transformers import BertTokenizer, BertForSequenceClassification, Trainer, TrainingArguments\n",
    "from datasets import load_dataset\n",
    "\n",
    "# Carica il modello e il tokenizer BERT\n",
    "model_name = \"bert-base-uncased\"\n",
    "tokenizer = BertTokenizer.from_pretrained(model_name)\n",
    "model = BertForSequenceClassification.from_pretrained(model_name, num_labels=2)\n",
    "\n",
    "# Carica il dataset medico\n",
    "dataset = load_dataset(\"your_medical_dataset\")\n",
    "\n",
    "# Pre-elabora il dataset\n",
    "def preprocess_function(examples):\n",
    "    return tokenizer(examples['text'], truncation=True, padding='max_length')\n",
    "\n",
    "tokenized_dataset = dataset.map(preprocess_function, batched=True)\n",
    "\n",
    "# Definisci i parametri di training\n",
    "training_args = TrainingArguments(\n",
    "    output_dir='./results',\n",
    "    evaluation_strategy='epoch',\n",
    "    per_device_train_batch_size=8,\n",
    "    per_device_eval_batch_size=8,\n",
    "    num_train_epochs=3,\n",
    "    logging_dir='./logs',\n",
    ")\n",
    "\n",
    "# Crea il Trainer\n",
    "trainer = Trainer(\n",
    "    model=model,\n",
    "    args=training_args,\n",
    "    train_dataset=tokenized_dataset['train'],\n",
    "    eval_dataset=tokenized_dataset['test'],\n",
    ")\n",
    "\n",
    "# Esegui il training\n",
    "trainer.train()\n"
   ]
  }
 ],
 "metadata": {
  "kernelspec": {
   "display_name": ".venv",
   "language": "python",
   "name": "python3"
  },
  "language_info": {
   "codemirror_mode": {
    "name": "ipython",
    "version": 3
   },
   "file_extension": ".py",
   "mimetype": "text/x-python",
   "name": "python",
   "nbconvert_exporter": "python",
   "pygments_lexer": "ipython3",
   "version": "3.11.9"
  }
 },
 "nbformat": 4,
 "nbformat_minor": 2
}
