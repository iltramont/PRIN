{
 "cells": [
  {
   "cell_type": "code",
   "execution_count": 1,
   "metadata": {},
   "outputs": [
    {
     "name": "stderr",
     "output_type": "stream",
     "text": [
      "c:\\Users\\lucat\\PythonRepositories\\PRIN\\.venv\\Lib\\site-packages\\tqdm\\auto.py:21: TqdmWarning: IProgress not found. Please update jupyter and ipywidgets. See https://ipywidgets.readthedocs.io/en/stable/user_install.html\n",
      "  from .autonotebook import tqdm as notebook_tqdm\n"
     ]
    }
   ],
   "source": [
    "import numpy as np\n",
    "import pandas as pd\n",
    "from pprint import pprint\n",
    "from datasets import load_dataset"
   ]
  },
  {
   "cell_type": "code",
   "execution_count": 2,
   "metadata": {},
   "outputs": [],
   "source": [
    "data_path = 'C:\\\\Users\\\\lucat\\\\OneDrive\\\\TESI_MAGISTRALE\\\\Referti\\Referti non strutturati retto\\\\Referti con annotazioni.xlsx'\n",
    "data = pd.read_excel(data_path, index_col=0)\n",
    "data = data.T\n",
    "#narratives = data.iloc[:, 2]"
   ]
  },
  {
   "cell_type": "code",
   "execution_count": 3,
   "metadata": {},
   "outputs": [
    {
     "name": "stdout",
     "output_type": "stream",
     "text": [
      "Index(['Intestazione', 'Esame', 'TESTO:', 'TECNICA:',\n",
      "       'QUALITA' DELLE IMMAGINI: ', 'INDICAZIONI: ', 'CONFRONTO: ', 'RETTO:',\n",
      "       'Posizione: ', 'Estensione cranio-caudale: ',\n",
      "       'Estensione circonferenziale: ', 'Infiltrazione sfintere: ',\n",
      "       'Coinvolgimento fascia mesorettale:',\n",
      "       'Localizzazione della distanza minima tra tumore e MRF (mesorectal fascia): ',\n",
      "       'Linfonodi mesorettali: ', 'Depositi tumorali: ', 'Altri reperti: ',\n",
      "       'CONCLUSIONI: ',\n",
      "       'Note cliniche GEMELLI: mi piacerebbe conoscere lo stato EMVI (extramural vascular invasion), se ci sono linfonodi extra mesorettali positivi (inguinali, otturatori, iliaci interni ed esterni, iliaci comuni)'],\n",
      "      dtype='object', name='Caso')\n"
     ]
    }
   ],
   "source": [
    "# Columns\n",
    "pprint(data.columns)"
   ]
  },
  {
   "cell_type": "code",
   "execution_count": 4,
   "metadata": {},
   "outputs": [
    {
     "name": "stdout",
     "output_type": "stream",
     "text": [
      "0    Esame eseguito secondo piani multipli, mediant...\n",
      "1    L'esame è stato eseguito mediante sequenze HAS...\n",
      "2    Motivo dell'esame: neoformazione del retto. L'...\n",
      "3    Indagine eseguita mediante sequenze T2 e T1-di...\n",
      "4    L'esame è stato eseguito mediante sequenze FSE...\n",
      "5    Tecnica: sequenze FSE, DWI, FSPGR 3D-DISCO pri...\n",
      "6    L'esame è srtato eseguito medinte sequenze FSE...\n",
      "7    Esame eseguito mediante sequenze FSE,GRE e DWI...\n",
      "8    L'esame è stato eseguito mediante sequenze FSE...\n",
      "9    L'esame è stato eseguito mediante sequenze FSE...\n",
      "Name: TESTO:, dtype: object\n"
     ]
    }
   ],
   "source": [
    "# Select Narratives (testo dei referti)\n",
    "narratives = data['TESTO:']\n",
    "narratives.reset_index(drop=True, inplace=True)\n",
    "print(narratives)"
   ]
  },
  {
   "cell_type": "code",
   "execution_count": 5,
   "metadata": {},
   "outputs": [
    {
     "name": "stdout",
     "output_type": "stream",
     "text": [
      "                                               Testo\n",
      "0  Esame eseguito secondo piani multipli, mediant...\n",
      "1  L'esame è stato eseguito mediante sequenze HAS...\n",
      "2  Motivo dell'esame: neoformazione del retto. L'...\n",
      "3  Indagine eseguita mediante sequenze T2 e T1-di...\n",
      "4  L'esame è stato eseguito mediante sequenze FSE...\n",
      "5  Tecnica: sequenze FSE, DWI, FSPGR 3D-DISCO pri...\n",
      "6  L'esame è srtato eseguito medinte sequenze FSE...\n",
      "7  Esame eseguito mediante sequenze FSE,GRE e DWI...\n",
      "8  L'esame è stato eseguito mediante sequenze FSE...\n",
      "9  L'esame è stato eseguito mediante sequenze FSE...\n"
     ]
    }
   ],
   "source": [
    "# Create new clean file\n",
    "data = pd.DataFrame(narratives)\n",
    "data.rename(columns={'TESTO:': 'Testo'}, inplace=True)\n",
    "print(data)"
   ]
  },
  {
   "cell_type": "code",
   "execution_count": 6,
   "metadata": {},
   "outputs": [],
   "source": [
    "# Save cleaned data\n",
    "path = 'C:\\\\Users\\\\lucat\\\\OneDrive\\\\TESI_MAGISTRALE\\\\Referti\\\\Referti non strutturati retto\\\\Referti_puliti.csv'\n",
    "data.to_csv(path, index=False)"
   ]
  },
  {
   "cell_type": "code",
   "execution_count": null,
   "metadata": {},
   "outputs": [],
   "source": []
  },
  {
   "cell_type": "code",
   "execution_count": null,
   "metadata": {},
   "outputs": [],
   "source": []
  }
 ],
 "metadata": {
  "kernelspec": {
   "display_name": ".venv",
   "language": "python",
   "name": "python3"
  },
  "language_info": {
   "codemirror_mode": {
    "name": "ipython",
    "version": 3
   },
   "file_extension": ".py",
   "mimetype": "text/x-python",
   "name": "python",
   "nbconvert_exporter": "python",
   "pygments_lexer": "ipython3",
   "version": "3.11.9"
  }
 },
 "nbformat": 4,
 "nbformat_minor": 2
}
