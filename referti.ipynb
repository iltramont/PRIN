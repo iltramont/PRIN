{
  "nbformat": 4,
  "nbformat_minor": 0,
  "metadata": {
    "colab": {
      "provenance": [],
      "authorship_tag": "ABX9TyMrSTiGp/+Wi701IiW8QVYP",
      "include_colab_link": true
    },
    "kernelspec": {
      "name": "python3",
      "display_name": "Python 3"
    },
    "language_info": {
      "name": "python"
    }
  },
  "cells": [
    {
      "cell_type": "markdown",
      "metadata": {
        "id": "view-in-github",
        "colab_type": "text"
      },
      "source": [
        "<a href=\"https://colab.research.google.com/github/iltramont/PRIN/blob/main/referti.ipynb\" target=\"_parent\"><img src=\"https://colab.research.google.com/assets/colab-badge.svg\" alt=\"Open In Colab\"/></a>"
      ]
    },
    {
      "cell_type": "code",
      "execution_count": null,
      "metadata": {
        "id": "UVeGIKYJut4F"
      },
      "outputs": [],
      "source": [
        "import pandas as pd\n",
        "import numpy as np"
      ]
    },
    {
      "cell_type": "code",
      "source": [
        "data = pd.read_excel('Referti Gemelli 1-10 con annotazioni.xlsx')"
      ],
      "metadata": {
        "id": "pt0QDp9TvoIW"
      },
      "execution_count": null,
      "outputs": []
    },
    {
      "cell_type": "code",
      "source": [
        "text = data.iloc[2, 1:]"
      ],
      "metadata": {
        "id": "TXs07bvNwfyZ"
      },
      "execution_count": null,
      "outputs": []
    },
    {
      "cell_type": "code",
      "source": [
        "for t in text:\n",
        "    print(t)\n",
        "    print('\\n')"
      ],
      "metadata": {
        "colab": {
          "base_uri": "https://localhost:8080/"
        },
        "id": "zbgyskSowg2U",
        "outputId": "7733cd78-42da-4986-8367-63e087a5752a"
      },
      "execution_count": null,
      "outputs": [
        {
          "output_type": "stream",
          "name": "stdout",
          "text": [
            "Esame eseguito secondo piani multipli, mediante sequenze T1- e T2-dipendenti e di Diffusione, completato mediante sono state mezzo di contrasto (Prohance, 16 mL). A circa 2,5 cm dalla giunzione ano-rettale si documenta formazione espansiva solida semianulare che si estende da ore 2 ad ore 7 per una estensione cranio-caudale di 5 cm. Essa presenta fini spiculature che si estendono nel tessuto adiposo pararettale per un'estensione inferiore ai 5 mm. Sono presenti tre linfonodi con aspetto tondeggiante, segnale irregolare e margini mal definiti; uno di questi, in sede craniale, giunge a contatto con la fascia mesorettale (vedi immagii principali). Si documenta sospetta esntesione della vascolarizzazione al versante alterale di sinistra (vedi immagii principali).\n",
            "\n",
            "\n",
            "L'esame è stato eseguito mediante sequenze HASTE, DWI, VIBE dopo mdc (Prohance 15ml), in assenza di precedenti RM con cui effettuare un confronto. In corrispondenza della parete anteriore del retto medio-alto, da circa 7 cm dallo sfintere anale interno con estensione craniale per circa 2 cm, si documenta ispessimento parietale confinato alla parete (spessore massimo 13 mm), che occupa due quarti della circonferenza del lume, moderatamente iperintenso nelle sequenze T2-dipendenti ed iperintenso nelle sequenze DWI, che mostra intensa impregnazione constrastografica nelle sequenze di perfusione. Due linfonodi con asse corto < 5 mm in sede mesorettale posteriore aspecifici. Non evidenti linfoadenopatie in sede pelvica. Piccola cisti di Tarlov a livello di S2.\n",
            "\n",
            "\n",
            "Motivo dell'esame: neoformazione del retto. L'esame RM stato eseguito mediante sequenze SE e FSE con immagini secondo piani multipli, in condizioni di base e durante somministrazione e.v. di chelati del Gd (ProHance 13 ml). Si documenta un ispessimento focale della parete laterale destra del retto medio, che appare iperintensa nelle immagini T2-dipendenti, con impregnazione di contrasto e restrizione del coefficiente di diffusione, con un'estensione cranio-caudale di 52 mm, con prevalente crescita vegetante all'interno del lume del viscere. Finemente irregolare irsulta l'interfaccia tra la parete del retto medio, sede del suddetto ispessimento, ed il tessuto adiposo perirettale, ma non si documentano tuttavia macroscopici segni di infiltrazione del tessuto adiposo perirettale. Conservato risulta il piano di clivaggio con la fascia mesorettale. Sono presenti multipli, piccoli linfonodi del diametro assiale minimo inferiore a 5 mm nel tessuto adiposo perirettale. Un linfonodo, del diametro assiale minimo inferiore a 5 mm, si osserva anche lungo i vasi emorroidari superiori. Non si documentano linfoadenomegalie in sede otturatorioa o lungo i vasi iliaci, bilateralmente. L'utero appare antiverso - flesso, di dimensioni ridotte, come per involuzione post-menopausale. Nella norma lo spessore dell'nedometrio. Non aree focali di alterata intensità di segnale della cervice dell'utero. Nella norma lo spessore e l'intensità di segnale delle pareti della vagina e dei fornici vaginali. Non lesioni espansive in sede annessiale, bilateralmente, ove si osservano multipli follicoli funzionali. Non linfoadenomegalie pelviche od inguinali, né versamento nel cavo di Douglas. Vescica appare poco distesa, esente da alterazioni parietali o endoluminali.\n",
            "\n",
            "\n",
            "Indagine eseguita mediante sequenze T2 e T1-dipendenti su piani multipli, prima e dopo somministrazione di MdC paramagnetico (Prohance 13 ml), anche con soprressione del segnale adiposo, DWI(ADC), previa distensione del retto con gel e ipotonizzante im. Si conferma la presenza in corrispondenza del retto medio-alto, di un ispessimento eccentrico della parete viscerale che mostra segnale disomogeneamente iperintenso nelle sequenze T2-dipendenti, restrizione della diffusione protonica ed enchancement postcontrastografico, di natura eteroplasica. Tale ispessimento dista circa 55 mm dall'orifizio anale interno, estendendosi in senso CC per 65 mm, con diametro AP 30 di mm e LL di 30 mm. La parete del retto è interessata a tutto spessore con segni di sconfinamento nel tessuto adiposo perirettale, in particolare lungo la parete postero-laterale sinistra, tuttavia in assenza di coinvolgimento patologico della fascia mesorettale. Nel periretto-sigma sono presenti almeno quattro linfonodi con morfologia rotondeggiante e margini sfumati, sospetti, il maggiore di 6 mm in sede presacrale. Linfonodo con con asse corto di 7 mm in sede iliaca esterna destra. Vescica normodistesa, esente da ispessimenti focali di parete. Prostata di dimensioni aumentate (dT 47 mm), con III lobo aggettante in vescica, meritevole di videat urologico ove non eseguito di recente. Non falde fluide in scavo pelvico. Conclusioni: Neoplasia rettale T3 MRT- N2a M0 (M1 se linfonodo inguinale esterno destro confermato).\n",
            "\n",
            "\n",
            "L'esame è stato eseguito mediante sequenze FSE,DWI,Disco dopo mdc, Prohance. In corrispondenza del retto medio- basso da circa 2,5 cm dallo sfintere anale interno con estensione craniale per circa 5 cm, con epicentro in corrispondenza della parete posterolaterale sinistra, è presente ispessimento arietale che occupa 3/4 della circonferenza del lume con digitazioni nel mesoretto . La neoplasia è contigua al muscolo elevatore dell'ano di sn ma senza sicuri segni di infiltrazione. Nel mesoretto e lungo i vasi emorroidari superiori sono presenti linfonodi sospetti in numero superiore a tre, il maggiore nel mesoretto di destra con asse corto di circa 7 mm. Linfonodi di circa 1 cm in sede inguinale destra. DT della prostata di circa 5 cm Diffuso ispessimento delle pareti vescicali. CONCLUSIONI: STADIAZIONE RM T3 N2\n",
            "\n",
            "\n",
            "Tecnica: sequenze FSE, DWI, FSPGR 3D-DISCO prima e dopo somministrazione ev di mdc paramagnetico (Prohance 0.2 ml/Kg), previa distensione del retto con gel. Referto a confronto con precedente esame TC del 10.06.22, eseguito presso altra sede e portato in visione. Risultati: si documenta ispessimento parietale ad epicentro a livello del retto medio-superiore, con estensione longitudinale di circa 6 cm. La lesione interessa il viscere per almeno 3/4 della sua circonferenza, con effetto stenosante sul lume, prevalentemente da ore 5 ad ore 12; la lesione mostra segnale debolmente iperintenso nelle sequenze T2 dipendenti cons egni di restrizione della diffusività protonica ed impregnazione di contrasto dopo mdc. La parete nel terzo inferiore appare infiltrata a tutto spessore, con sottili spiculature nel tessuto adiposo mesorettale più evidenti da ore 6 ad ore 9. Si associano numerosi linfonodi (in numero superiore a 3) con asse corto massimo sino a 5 mm nel mesoretto e plurimi linfonodi con asse corto di 5 mm lungo i vasi emorroidari superiori. Linfonodo con asse corto di crca 4mm in sede ipogastrica a dx. Linfonodi con asse corto subcentimetrico aspecifici in sede otturatoria ed iliaca estena bilateralmente. Vescica urinaria scarsamente repleta, esente da grossolane alterazioni. Non versamento libero in pelvi. Prostata di dimensioni aumentate (DT 48 mm) con ipertrofia adenomatosa della porzione centrale. Diverticolosi del sigma\n",
            "\n",
            "\n",
            "L'esame è srtato eseguito medinte sequenze FSE, DWI, DISCO dopo mdc, Prohance. In corrispondenza del retto medio da crica 5,6 cm dallo sfintere anale interno con estensione craniale del circa 4 cm, si conferma la presenza di una formazione aggettante a prevalente sviluppo endoluminale, apparentemnte peduncolata, che occupa due quarti della circonferenza del lume senza sicuri segni di sconfinamento extraparietale. Nel mesoretto posteriore sono presenti due linfonodi sospetti. Si conferma ernia ombelicale con porta erniaria di 5 cm ed impegno di tessuto adiposo. Utero antiversoflesso in atrofia post-menopausale. Ispessimento dell'endometrio da valutare clinicamente. CONCLUSIONI: Formazione aggettante del retto medio senza sicuri segni di sconfinamento extraparietale. Due linfonodi sospetti nel mesoretto posteriore.\n",
            "\n",
            "\n",
            "Esame eseguito mediante sequenze FSE,GRE e DWI, prima e dopo somministrazione ev di mdc paramagnetico (Prohance 0.2 ml/kg) anche con sequenze di perfusione, previa somministrazione di Buscopan ed applicazione di gel endo-rettale. Esame valutato in considerazione del precedente esame TC del 09.09.2022. Si documenta tessuto solido modicamenteiperintenso nelle sequenze T2 pesate con restrizione della diffusività protonica e dotato di impregnazione contrastografica, ad epicentro nel retto medio-basso e cranialmente esteso al passaggio medio-alto (limite inferiore a crica 3 cm dalla giunzione ano-rettale ed estensione longitudinale craniale per circa 7,5 cm), che interessa la parete del viscere per più dell'emicirconfereza (estensione assiale massima dalle ore 5 alle ore 13 in senso orario). La lesione infiltra la parete rettale a tutto spessore, con bulging, margini sfumati e spicule che si estendono nel tessuto adiposo adiacente (maggiori in sede anterolaterale dx con estensione di almeno 5 mm) e con un sottile clivaggio dalla fascia mesorettale (< 2 mm in sede anteriore); non si osservano segni di interessamento della fascia peritoneale. Si documentano linfonodi con asse corto uguale o maggiore a 5 mm, di aspetto rotondeggiante e margini sfumati nel mesoretto (circa 5), al passaggio mesoretto-tessuto adiposo peritoneale e lungo i vasi emorroidari (circa 4). Nelle stesse stazioni ed insede iliaca interna dx sono presenti linfonodi con asse corto < 5 mm e simili caratteristiche morfologiche. Linfonodi con asse corto < 5 mm e morfologia maggiormente ovalare sono visibili nelle altre stazioni pelviche. Conservati i piani di clivaggio con le strutture vascolari adiacenti. Vescica normodistesa. Diffusa disomogenea densità ossea. Annotazioni Eteroformazione rettale ad epicentro medio-basso estesa cranialmente fino al passaggio medio-alto, con stadiazione radiologica T3c N2 e criteri radiologici di possibile interessamento della fascia mesorettale.\n",
            "\n",
            "\n",
            "L'esame è stato eseguito mediante sequenze FSE, DWI, 3D lava dopo mdc, Prohance. Il retto appare disteso da una grossolana formazione di aspetto villoso a sviluppo endoluminale che si estende da subito al di sopra dello sfintere anale interno cranialmente per circa 8 cm, occupa 3/4 della circonferenza del lume con epicentro in corrispondenza della parete laterale sinistra dove retrae la parete. Anteriormente si segnala ampia soluzione di continuo tra lume rettale e vagina con distensione ed invasione del canale vaginale ( in vagina è riconoscibilie una componente della neoplasia villosa ). Piu' caudalmente la neoplasia interrompe il setto rettovaginale. Sul versante postero-laterale sinistro la parete rettale appare sfiancata e la neoplasia raggiunge con una componente mucinosa la parete laterale sinistra della pelvi ed infiltra il muscolo otturatore interno , caudalmente a sinistra la neoplasia raggiunge il pavimento pelvico , infiltra e oltrepassa il muscolo elevatore dell'ano di sinistra e raggiunge la fosse ischio-rettale di sinistra . Lungo i vasi emorroidari superiori sono presenti due linfonodi sospetti. Utero in atrofia senile fibromiomatoso, in corrispondenza della parete anteriore del fondo uterino è presente un nodo miomatoso di circa 1 cm. Piccole ernie inguinali bilaterali con impegno di tessuto adiposo. Puccoli linfonodi , aspecifici, in sede inguinale bilaterale. CONCLUSIONI: L'esame RM depone per neoplasia di tipo villoso del retto medio-basso che invade anteriormente con una componente endoluminale, attraverso un ampio tramite, il canale vaginale e lateralemnte raggiunge la fossa ischio-rettale di sn.\n",
            "\n",
            "\n",
            "L'esame è stato eseguito mediante sequenze FSE,DWI. In corrispondenza del retto medio-alto , da circa 6 cm dallo sfintere anale interno con epicentro in corrispondenza della parete postero-laterale destra , si segnala formazione aggettante che occupa 3/4 della circonferenza del lume e si estende cranio-caudalmente per circa 4,6 cm ed invia digitazioni nel mesoretto. Tre linfonodi sospetti nel mesoretto posteriore e lungo i vasi emorroidari superiori. CONCLUSIONI STADIAZIONE RM T3 N1\n",
            "\n",
            "\n"
          ]
        }
      ]
    },
    {
      "cell_type": "code",
      "source": [
        "#aggiunta commento prova\n"
      ],
      "metadata": {
        "id": "Aj044nVHwzwy"
      },
      "execution_count": 1,
      "outputs": []
    },
    {
      "cell_type": "code",
      "source": [],
      "metadata": {
        "id": "P4V3sooOxuVs"
      },
      "execution_count": null,
      "outputs": []
    }
  ]
}